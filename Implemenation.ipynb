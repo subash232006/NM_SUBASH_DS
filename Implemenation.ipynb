{
  "nbformat": 4,
  "nbformat_minor": 0,
  "metadata": {
    "colab": {
      "provenance": []
    },
    "kernelspec": {
      "name": "python3",
      "display_name": "Python 3"
    },
    "language_info": {
      "name": "python"
    }
  },
  "cells": [
    {
      "cell_type": "code",
      "execution_count": null,
      "metadata": {
        "id": "VMZg6tyoIHop"
      },
      "outputs": [],
      "source": [
        "import pandas as pd\n",
        "\n",
        "# Load the uploaded CSV file\n",
        "file_path = \"/mnt/data/sentiment_analysis.csv\"\n",
        "df = pd.read_csv(file_path)\n",
        "\n",
        "# Display basic info and first few rows to understand the structure\n",
        "df.info(), df.head()\n"
      ]
    },
    {
      "source": [
        "# Task\n",
        "Tell me about this dataset.\n",
        "\n",
        "Here is all the data you need:\n",
        "\"sentiment_analysis.csv\""
      ],
      "cell_type": "markdown",
      "metadata": {
        "id": "LNwN8ofPIUtl"
      }
    },
    {
      "source": [
        "## Data loading\n",
        "\n",
        "### Subtask:\n",
        "Load the data from \"sentiment_analysis.csv\" into a dataframe.\n"
      ],
      "cell_type": "markdown",
      "metadata": {
        "id": "jLnMGyLBIVOJ"
      }
    },
    {
      "source": [
        "**Reasoning**:\n",
        "Load the data from \"sentiment_analysis.csv\" into a pandas DataFrame and display the first 5 rows.\n",
        "\n"
      ],
      "cell_type": "markdown",
      "metadata": {
        "id": "Cygq4TszIVd6"
      }
    },
    {
      "source": [
        "import pandas as pd\n",
        "\n",
        "# Read the csv file into a pandas DataFrame\n",
        "df = pd.read_csv(\"sentiment_analysis.csv\")\n",
        "\n",
        "# Display the first 5 rows of the DataFrame\n",
        "display(df.head().to_markdown(index=False, numalign=\"left\", stralign=\"left\"))"
      ],
      "cell_type": "code",
      "metadata": {
        "colab": {
          "base_uri": "https://localhost:8080/",
          "height": 209
        },
        "id": "RCSO932nIVtu",
        "outputId": "0737eb54-dd91-4f05-c26e-c620676613f3"
      },
      "execution_count": 1,
      "outputs": [
        {
          "output_type": "display_data",
          "data": {
            "text/plain": [
              "\"| Year   | Month   | Day   | Time of Tweet   | text                                                                               | sentiment   | Platform   |\\n|:-------|:--------|:------|:----------------|:-----------------------------------------------------------------------------------|:------------|:-----------|\\n| 2018   | 8       | 18    | morning         | What a great day!!! Looks like dream.                                              | positive    | Twitter    |\\n| 2018   | 8       | 18    | noon            | I feel sorry, I miss you here in the sea beach                                     | positive    | Facebook   |\\n| 2017   | 8       | 18    | night           | Don't angry me                                                                     | negative    | Facebook   |\\n| 2022   | 6       | 8     | morning         | We attend in the class just for listening teachers reading on slide. Just Nonsence | negative    | Facebook   |\\n| 2022   | 6       | 8     | noon            | Those who want to go, let them go                                                  | negative    | Instagram  |\""
            ],
            "application/vnd.google.colaboratory.intrinsic+json": {
              "type": "string"
            }
          },
          "metadata": {}
        }
      ]
    },
    {
      "source": [
        "## Data exploration\n",
        "\n",
        "### Subtask:\n",
        "Explore the dataset to understand its structure, columns, data types, and summary statistics.\n"
      ],
      "cell_type": "markdown",
      "metadata": {
        "id": "E6QW9yZOIZhx"
      }
    },
    {
      "source": [
        "**Reasoning**:\n",
        "Explore the dataset by printing its shape, column information, descriptive statistics, and checking for missing values.\n",
        "\n"
      ],
      "cell_type": "markdown",
      "metadata": {
        "id": "f-Rvq4Y5IaCj"
      }
    },
    {
      "source": [
        "# Print the shape of the DataFrame\n",
        "print(\"Shape of the DataFrame:\")\n",
        "print(df.shape)\n",
        "\n",
        "# Print the column names and their data types\n",
        "print(\"\\nColumn information:\")\n",
        "df.info()\n",
        "\n",
        "# Display descriptive statistics of numerical columns\n",
        "print(\"\\nDescriptive statistics:\")\n",
        "display(df.describe().to_markdown(numalign=\"left\", stralign=\"left\"))\n",
        "\n",
        "# Check for missing values\n",
        "print(\"\\nMissing values per column:\")\n",
        "print(df.isnull().sum())"
      ],
      "cell_type": "code",
      "metadata": {
        "colab": {
          "base_uri": "https://localhost:8080/",
          "height": 625
        },
        "id": "rTuulofnIaSY",
        "outputId": "b5dfb270-2eb6-4798-a524-ea9e13b65a51"
      },
      "execution_count": 2,
      "outputs": [
        {
          "output_type": "stream",
          "name": "stdout",
          "text": [
            "Shape of the DataFrame:\n",
            "(499, 7)\n",
            "\n",
            "Column information:\n",
            "<class 'pandas.core.frame.DataFrame'>\n",
            "RangeIndex: 499 entries, 0 to 498\n",
            "Data columns (total 7 columns):\n",
            " #   Column         Non-Null Count  Dtype \n",
            "---  ------         --------------  ----- \n",
            " 0   Year           499 non-null    int64 \n",
            " 1   Month          499 non-null    int64 \n",
            " 2   Day            499 non-null    int64 \n",
            " 3   Time of Tweet  499 non-null    object\n",
            " 4   text           499 non-null    object\n",
            " 5   sentiment      499 non-null    object\n",
            " 6   Platform       499 non-null    object\n",
            "dtypes: int64(3), object(4)\n",
            "memory usage: 27.4+ KB\n",
            "\n",
            "Descriptive statistics:\n"
          ]
        },
        {
          "output_type": "display_data",
          "data": {
            "text/plain": [
              "'|       | Year    | Month   | Day     |\\n|:------|:--------|:--------|:--------|\\n| count | 499     | 499     | 499     |\\n| mean  | 2020.39 | 6.08417 | 15.6934 |\\n| std   | 2.83099 | 3.65271 | 8.80467 |\\n| min   | 2010    | 1       | 1       |\\n| 25%   | 2019    | 2       | 8       |\\n| 50%   | 2021    | 6       | 15      |\\n| 75%   | 2023    | 9       | 22      |\\n| max   | 2023    | 12      | 31      |'"
            ],
            "application/vnd.google.colaboratory.intrinsic+json": {
              "type": "string"
            }
          },
          "metadata": {}
        },
        {
          "output_type": "stream",
          "name": "stdout",
          "text": [
            "\n",
            "Missing values per column:\n",
            "Year             0\n",
            "Month            0\n",
            "Day              0\n",
            "Time of Tweet    0\n",
            "text             0\n",
            "sentiment        0\n",
            "Platform         0\n",
            "dtype: int64\n"
          ]
        }
      ]
    },
    {
      "source": [
        "## Data analysis\n",
        "\n",
        "### Subtask:\n",
        "Analyze the distribution of sentiment labels in the dataset.\n"
      ],
      "cell_type": "markdown",
      "metadata": {
        "id": "EjZYizF1IcyW"
      }
    },
    {
      "source": [
        "**Reasoning**:\n",
        "Count the occurrences of each unique value in the 'sentiment' column and store the counts in a variable and print the counts.\n",
        "\n"
      ],
      "cell_type": "markdown",
      "metadata": {
        "id": "3tCsSoAlIdQu"
      }
    },
    {
      "source": [
        "# Count the occurrences of each unique value in the 'sentiment' column\n",
        "sentiment_counts = df['sentiment'].value_counts()\n",
        "\n",
        "# Print the sentiment counts\n",
        "print(\"Distribution of sentiment labels:\")\n",
        "print(sentiment_counts)"
      ],
      "cell_type": "code",
      "metadata": {
        "colab": {
          "base_uri": "https://localhost:8080/"
        },
        "id": "t-L67AVTIdgc",
        "outputId": "8450e38d-6d1c-4fb1-936f-1645a4439c2d"
      },
      "execution_count": 3,
      "outputs": [
        {
          "output_type": "stream",
          "name": "stdout",
          "text": [
            "Distribution of sentiment labels:\n",
            "sentiment\n",
            "neutral     199\n",
            "positive    166\n",
            "negative    134\n",
            "Name: count, dtype: int64\n"
          ]
        }
      ]
    },
    {
      "source": [
        "## Data visualization\n",
        "\n",
        "### Subtask:\n",
        "Visualize the distribution of sentiment labels using a bar chart.\n"
      ],
      "cell_type": "markdown",
      "metadata": {
        "id": "buHp7ZD5IgcO"
      }
    },
    {
      "source": [
        "**Reasoning**:\n",
        "Visualize the distribution of sentiment labels using a bar chart as instructed.\n",
        "\n"
      ],
      "cell_type": "markdown",
      "metadata": {
        "id": "pd1MY6OBIg9F"
      }
    },
    {
      "source": [
        "import seaborn as sns\n",
        "import matplotlib.pyplot as plt\n",
        "\n",
        "# Use seaborn.countplot() to create a bar chart of the 'sentiment' column\n",
        "sns.countplot(x='sentiment', data=df)\n",
        "\n",
        "# Add a title to the plot\n",
        "plt.title(\"Distribution of Sentiment Labels\")\n",
        "\n",
        "# Display the plot\n",
        "plt.show()"
      ],
      "cell_type": "code",
      "metadata": {
        "colab": {
          "base_uri": "https://localhost:8080/",
          "height": 472
        },
        "id": "uTNyETCyIhM3",
        "outputId": "c21f3f26-ee65-44bf-dbb6-f575cf4c8ec3"
      },
      "execution_count": 4,
      "outputs": [
        {
          "output_type": "display_data",
          "data": {
            "text/plain": [
              "<Figure size 640x480 with 1 Axes>"
            ],
            "image/png": "[encoded data removed]"
          },
          "metadata": {}
        }
      ]
    },
    {
      "source": [
        "## Summary:\n",
        "\n",
        "### Data Analysis Key Findings\n",
        "\n",
        "*   The dataset contains 499 rows and 7 columns, with no missing values.\n",
        "*   The dataset includes columns for `Year`, `Month`, `Day` (integer types), and `Time of Tweet`, `text`, `sentiment`, `Platform` (object types).\n",
        "*   The distribution of sentiment labels is as follows: Neutral (199), Positive (166), and Negative (134).\n",
        "\n",
        "### Insights or Next Steps\n",
        "\n",
        "*   The dataset has a relatively balanced distribution of sentiment labels, which is beneficial for training a sentiment analysis model.\n",
        "*   Further analysis could explore the relationship between sentiment and other features like `Platform` or `Time of Tweet`.\n"
      ],
      "cell_type": "markdown",
      "metadata": {
        "id": "wnoXOyndIkL3"
      }
    }
  ]
}